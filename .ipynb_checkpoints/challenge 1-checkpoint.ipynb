{
 "cells": [
  {
   "cell_type": "markdown",
   "id": "7f5c2fc3",
   "metadata": {},
   "source": [
    "Challenge 1"
   ]
  },
  {
   "cell_type": "markdown",
   "id": "91cabb82",
   "metadata": {},
   "source": [
    "Partie 1"
   ]
  },
  {
   "cell_type": "code",
   "execution_count": 25,
   "id": "37e2ed0c",
   "metadata": {},
   "outputs": [
    {
     "data": {
      "text/plain": [
       "10.95"
      ]
     },
     "execution_count": 25,
     "metadata": {},
     "output_type": "execute_result"
    }
   ],
   "source": [
    "x1,x2,x3,x4 = 1,-3.1,-7.2,2.1\n",
    "X = [x1,x2,x3,x4]\n",
    "w1,w2,w3,w4 = 2.1,1.2,0.3,1.3\n",
    "W = [w1,w2,w3,w4]\n",
    "b=-3\n",
    "def lin_reg1(X,W,b):\n",
    "    res = 0\n",
    "    for i in range(len(X)):\n",
    "        res = res + X[i]*W[i]-b\n",
    "    return res\n",
    "lin_reg1(X,W,b)"
   ]
  },
  {
   "cell_type": "markdown",
   "id": "4fe10a0f",
   "metadata": {},
   "source": [
    "Partie 2"
   ]
  },
  {
   "cell_type": "code",
   "execution_count": 41,
   "id": "71397295",
   "metadata": {},
   "outputs": [],
   "source": [
    "def out_1(fonction):\n",
    "    if fonction > 0:\n",
    "        return fonction\n",
    "    else:\n",
    "        return 0\n",
    "a = out_1(lin_reg1(X,W,b))"
   ]
  },
  {
   "cell_type": "code",
   "execution_count": 40,
   "id": "37b23496",
   "metadata": {},
   "outputs": [
    {
     "data": {
      "text/plain": [
       "-12.39"
      ]
     },
     "execution_count": 40,
     "metadata": {},
     "output_type": "execute_result"
    }
   ],
   "source": [
    "w5,w6,w7,w8 = 0.1,1.2,4.9,3.1\n",
    "W2 = [w5,w6,w7,w8]\n",
    "b2 = -5\n",
    "def lin_reg2(X,W2,b2):\n",
    "    res = 0\n",
    "    for i in range(len(X)):\n",
    "        res = res + X[i]*W2[i]-b2\n",
    "    return res\n",
    "lin_reg2(X,W2,b2)"
   ]
  },
  {
   "cell_type": "code",
   "execution_count": 53,
   "id": "c16a527d",
   "metadata": {},
   "outputs": [
    {
     "name": "stdout",
     "output_type": "stream",
     "text": [
      "0\n"
     ]
    }
   ],
   "source": [
    "b = out_1(lin_reg2(X,W2,b2))\n",
    "print(b)"
   ]
  },
  {
   "cell_type": "markdown",
   "id": "5fa5671a",
   "metadata": {},
   "source": [
    "Partie 3"
   ]
  },
  {
   "cell_type": "code",
   "execution_count": 37,
   "id": "f14e0d2c",
   "metadata": {},
   "outputs": [
    {
     "data": {
      "text/plain": [
       "14.32"
      ]
     },
     "execution_count": 37,
     "metadata": {},
     "output_type": "execute_result"
    }
   ],
   "source": [
    "w9,w10,w11,w12 = 0.4,2.6,2.5,3.8\n",
    "W3 = [w9,w10,w11,w12]\n",
    "b3 = -8\n",
    "def lin_reg3(X,W3,b3):\n",
    "    res = 0\n",
    "    for i in range(len(X)):\n",
    "        res = res + X[i]*W3[i]-b3\n",
    "    return res\n",
    "lin_reg3(X,W3,b3)"
   ]
  },
  {
   "cell_type": "code",
   "execution_count": 44,
   "id": "368f0a69",
   "metadata": {},
   "outputs": [],
   "source": [
    "c = out_1(lin_reg3(X,W3,b3))"
   ]
  },
  {
   "cell_type": "markdown",
   "id": "1e3ef1dc",
   "metadata": {},
   "source": [
    "Partie 4"
   ]
  },
  {
   "cell_type": "code",
   "execution_count": 60,
   "id": "871f0650",
   "metadata": {},
   "outputs": [
    {
     "data": {
      "text/plain": [
       "6.769"
      ]
     },
     "execution_count": 60,
     "metadata": {},
     "output_type": "execute_result"
    }
   ],
   "source": [
    "w13,w14,w15 = 1.1,4.1,0.7\n",
    "W4 = [w13,w14,w15]\n",
    "b4= 5.1\n",
    "X2 = [a,b,c]\n",
    "def lin_reg_next_layer(X2,W4,b4):\n",
    "    res = 0\n",
    "    for i in range(len(X2)):\n",
    "        res = res + X2[i]*W4[i]-b4\n",
    "    return res\n",
    "lin_reg_next_layer(X2,W4,b4)\n"
   ]
  },
  {
   "cell_type": "code",
   "execution_count": 61,
   "id": "fc75dc35",
   "metadata": {},
   "outputs": [
    {
     "name": "stdout",
     "output_type": "stream",
     "text": [
      "6.769\n"
     ]
    }
   ],
   "source": [
    "d = out_1(lin_reg_next_layer(X2,W4,b4))\n",
    "print(d)"
   ]
  },
  {
   "cell_type": "code",
   "execution_count": 62,
   "id": "de12162f",
   "metadata": {},
   "outputs": [
    {
     "name": "stdout",
     "output_type": "stream",
     "text": [
      "0.998852475405914\n"
     ]
    }
   ],
   "source": [
    "from numpy import exp\n",
    "def activation_next_layer(x):\n",
    "    res = 1/( 1 + exp(-x) )\n",
    "    return res\n",
    "y_pred = activation_next_layer(d)\n",
    "print(y_pred)"
   ]
  },
  {
   "cell_type": "code",
   "execution_count": null,
   "id": "d37a41ca",
   "metadata": {},
   "outputs": [],
   "source": []
  },
  {
   "cell_type": "code",
   "execution_count": null,
   "id": "ddcfdbf0",
   "metadata": {},
   "outputs": [],
   "source": []
  }
 ],
 "metadata": {
  "kernelspec": {
   "display_name": "Python 3 (ipykernel)",
   "language": "python",
   "name": "python3"
  },
  "language_info": {
   "codemirror_mode": {
    "name": "ipython",
    "version": 3
   },
   "file_extension": ".py",
   "mimetype": "text/x-python",
   "name": "python",
   "nbconvert_exporter": "python",
   "pygments_lexer": "ipython3",
   "version": "3.9.12"
  }
 },
 "nbformat": 4,
 "nbformat_minor": 5
}
