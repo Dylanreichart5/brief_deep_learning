{
 "cells": [
  {
   "cell_type": "markdown",
   "metadata": {},
   "source": [
    "# Finetune your Neural Network\n",
    "\n",
    "**Exercise objectives:**\n",
    "- `Finetune` the model optimizer\n",
    "- `Save` and `Load` a `trained neural network`\n",
    "\n",
    "<hr>\n",
    "\n",
    "Now that you have solid foundations of what Neural Networks, how to design their architecture and how to regularize them, let's take a closer look at the `.compile(loss = ..., metrics = ..., activation = ...)` part.\n",
    "\n",
    "# Data\n",
    "\n",
    "We will use the data from the `Boston Housing dataset`. \n",
    "\n",
    "Our goal is to `predict the values of the houses` (in k USD), and we will measure our models' performances  using the `Mean Absolute Error` metrics"
   ]
  },
  {
   "cell_type": "code",
   "execution_count": 2,
   "metadata": {},
   "outputs": [],
   "source": [
    "import numpy as np\n",
    "import pandas as pd\n",
    "from tensorflow.keras.datasets import boston_housing\n",
    "import matplotlib.pyplot as plt\n",
    "import seaborn as sns\n",
    "%matplotlib inline"
   ]
  },
  {
   "cell_type": "code",
   "execution_count": 3,
   "metadata": {},
   "outputs": [
    {
     "name": "stdout",
     "output_type": "stream",
     "text": [
      "Downloading data from https://storage.googleapis.com/tensorflow/tf-keras-datasets/boston_housing.npz\n",
      "57026/57026 [==============================] - 0s 1us/step\n"
     ]
    },
    {
     "data": {
      "text/plain": [
       "<AxesSubplot:ylabel='Count'>"
      ]
     },
     "execution_count": 3,
     "metadata": {},
     "output_type": "execute_result"
    },
    {
     "data": {
      "image/png": "[encoded data removed]",
      "text/plain": [
       "<Figure size 432x288 with 1 Axes>"
      ]
     },
     "metadata": {
      "needs_background": "light"
     },
     "output_type": "display_data"
    }
   ],
   "source": [
    "(X_train, y_train), (X_test, y_test) = boston_housing.load_data()\n",
    "X_train.shape\n",
    "sns.histplot(y_train)"
   ]
  },
  {
   "cell_type": "code",
   "execution_count": 4,
   "metadata": {},
   "outputs": [
    {
     "name": "stdout",
     "output_type": "stream",
     "text": [
      "<class 'pandas.core.frame.DataFrame'>\n",
      "RangeIndex: 404 entries, 0 to 403\n",
      "Data columns (total 13 columns):\n",
      " #   Column  Non-Null Count  Dtype  \n",
      "---  ------  --------------  -----  \n",
      " 0   0       404 non-null    float64\n",
      " 1   1       404 non-null    float64\n",
      " 2   2       404 non-null    float64\n",
      " 3   3       404 non-null    float64\n",
      " 4   4       404 non-null    float64\n",
      " 5   5       404 non-null    float64\n",
      " 6   6       404 non-null    float64\n",
      " 7   7       404 non-null    float64\n",
      " 8   8       404 non-null    float64\n",
      " 9   9       404 non-null    float64\n",
      " 10  10      404 non-null    float64\n",
      " 11  11      404 non-null    float64\n",
      " 12  12      404 non-null    float64\n",
      "dtypes: float64(13)\n",
      "memory usage: 41.2 KB\n"
     ]
    }
   ],
   "source": [
    "pd.DataFrame(X_train).info()"
   ]
  },
  {
   "cell_type": "code",
   "execution_count": 5,
   "metadata": {},
   "outputs": [
    {
     "data": {
      "text/html": [
       "<div>\n",
       "<style scoped>\n",
       "    .dataframe tbody tr th:only-of-type {\n",
       "        vertical-align: middle;\n",
       "    }\n",
       "\n",
       "    .dataframe tbody tr th {\n",
       "        vertical-align: top;\n",
       "    }\n",
       "\n",
       "    .dataframe thead th {\n",
       "        text-align: right;\n",
       "    }\n",
       "</style>\n",
       "<table border=\"1\" class=\"dataframe\">\n",
       "  <thead>\n",
       "    <tr style=\"text-align: right;\">\n",
       "      <th></th>\n",
       "      <th>0</th>\n",
       "      <th>1</th>\n",
       "      <th>2</th>\n",
       "      <th>3</th>\n",
       "      <th>4</th>\n",
       "      <th>5</th>\n",
       "      <th>6</th>\n",
       "      <th>7</th>\n",
       "      <th>8</th>\n",
       "      <th>9</th>\n",
       "      <th>10</th>\n",
       "      <th>11</th>\n",
       "      <th>12</th>\n",
       "    </tr>\n",
       "  </thead>\n",
       "  <tbody>\n",
       "    <tr>\n",
       "      <th>count</th>\n",
       "      <td>404.000000</td>\n",
       "      <td>404.000000</td>\n",
       "      <td>404.000000</td>\n",
       "      <td>404.000000</td>\n",
       "      <td>404.000000</td>\n",
       "      <td>404.000000</td>\n",
       "      <td>404.000000</td>\n",
       "      <td>404.000000</td>\n",
       "      <td>404.000000</td>\n",
       "      <td>404.000000</td>\n",
       "      <td>404.000000</td>\n",
       "      <td>404.000000</td>\n",
       "      <td>404.000000</td>\n",
       "    </tr>\n",
       "    <tr>\n",
       "      <th>mean</th>\n",
       "      <td>3.745111</td>\n",
       "      <td>11.480198</td>\n",
       "      <td>11.104431</td>\n",
       "      <td>0.061881</td>\n",
       "      <td>0.557356</td>\n",
       "      <td>6.267082</td>\n",
       "      <td>69.010644</td>\n",
       "      <td>3.740271</td>\n",
       "      <td>9.440594</td>\n",
       "      <td>405.898515</td>\n",
       "      <td>18.475990</td>\n",
       "      <td>354.783168</td>\n",
       "      <td>12.740817</td>\n",
       "    </tr>\n",
       "    <tr>\n",
       "      <th>std</th>\n",
       "      <td>9.240734</td>\n",
       "      <td>23.767711</td>\n",
       "      <td>6.811308</td>\n",
       "      <td>0.241238</td>\n",
       "      <td>0.117293</td>\n",
       "      <td>0.709788</td>\n",
       "      <td>27.940665</td>\n",
       "      <td>2.030215</td>\n",
       "      <td>8.698360</td>\n",
       "      <td>166.374543</td>\n",
       "      <td>2.200382</td>\n",
       "      <td>94.111148</td>\n",
       "      <td>7.254545</td>\n",
       "    </tr>\n",
       "    <tr>\n",
       "      <th>min</th>\n",
       "      <td>0.006320</td>\n",
       "      <td>0.000000</td>\n",
       "      <td>0.460000</td>\n",
       "      <td>0.000000</td>\n",
       "      <td>0.385000</td>\n",
       "      <td>3.561000</td>\n",
       "      <td>2.900000</td>\n",
       "      <td>1.129600</td>\n",
       "      <td>1.000000</td>\n",
       "      <td>188.000000</td>\n",
       "      <td>12.600000</td>\n",
       "      <td>0.320000</td>\n",
       "      <td>1.730000</td>\n",
       "    </tr>\n",
       "    <tr>\n",
       "      <th>25%</th>\n",
       "      <td>0.081437</td>\n",
       "      <td>0.000000</td>\n",
       "      <td>5.130000</td>\n",
       "      <td>0.000000</td>\n",
       "      <td>0.453000</td>\n",
       "      <td>5.874750</td>\n",
       "      <td>45.475000</td>\n",
       "      <td>2.077100</td>\n",
       "      <td>4.000000</td>\n",
       "      <td>279.000000</td>\n",
       "      <td>17.225000</td>\n",
       "      <td>374.672500</td>\n",
       "      <td>6.890000</td>\n",
       "    </tr>\n",
       "    <tr>\n",
       "      <th>50%</th>\n",
       "      <td>0.268880</td>\n",
       "      <td>0.000000</td>\n",
       "      <td>9.690000</td>\n",
       "      <td>0.000000</td>\n",
       "      <td>0.538000</td>\n",
       "      <td>6.198500</td>\n",
       "      <td>78.500000</td>\n",
       "      <td>3.142300</td>\n",
       "      <td>5.000000</td>\n",
       "      <td>330.000000</td>\n",
       "      <td>19.100000</td>\n",
       "      <td>391.250000</td>\n",
       "      <td>11.395000</td>\n",
       "    </tr>\n",
       "    <tr>\n",
       "      <th>75%</th>\n",
       "      <td>3.674808</td>\n",
       "      <td>12.500000</td>\n",
       "      <td>18.100000</td>\n",
       "      <td>0.000000</td>\n",
       "      <td>0.631000</td>\n",
       "      <td>6.609000</td>\n",
       "      <td>94.100000</td>\n",
       "      <td>5.118000</td>\n",
       "      <td>24.000000</td>\n",
       "      <td>666.000000</td>\n",
       "      <td>20.200000</td>\n",
       "      <td>396.157500</td>\n",
       "      <td>17.092500</td>\n",
       "    </tr>\n",
       "    <tr>\n",
       "      <th>max</th>\n",
       "      <td>88.976200</td>\n",
       "      <td>100.000000</td>\n",
       "      <td>27.740000</td>\n",
       "      <td>1.000000</td>\n",
       "      <td>0.871000</td>\n",
       "      <td>8.725000</td>\n",
       "      <td>100.000000</td>\n",
       "      <td>10.710300</td>\n",
       "      <td>24.000000</td>\n",
       "      <td>711.000000</td>\n",
       "      <td>22.000000</td>\n",
       "      <td>396.900000</td>\n",
       "      <td>37.970000</td>\n",
       "    </tr>\n",
       "  </tbody>\n",
       "</table>\n",
       "</div>"
      ],
      "text/plain": [
       "               0           1           2           3           4           5   \\\n",
       "count  404.000000  404.000000  404.000000  404.000000  404.000000  404.000000   \n",
       "mean     3.745111   11.480198   11.104431    0.061881    0.557356    6.267082   \n",
       "std      9.240734   23.767711    6.811308    0.241238    0.117293    0.709788   \n",
       "min      0.006320    0.000000    0.460000    0.000000    0.385000    3.561000   \n",
       "25%      0.081437    0.000000    5.130000    0.000000    0.453000    5.874750   \n",
       "50%      0.268880    0.000000    9.690000    0.000000    0.538000    6.198500   \n",
       "75%      3.674808   12.500000   18.100000    0.000000    0.631000    6.609000   \n",
       "max     88.976200  100.000000   27.740000    1.000000    0.871000    8.725000   \n",
       "\n",
       "               6           7           8           9           10          11  \\\n",
       "count  404.000000  404.000000  404.000000  404.000000  404.000000  404.000000   \n",
       "mean    69.010644    3.740271    9.440594  405.898515   18.475990  354.783168   \n",
       "std     27.940665    2.030215    8.698360  166.374543    2.200382   94.111148   \n",
       "min      2.900000    1.129600    1.000000  188.000000   12.600000    0.320000   \n",
       "25%     45.475000    2.077100    4.000000  279.000000   17.225000  374.672500   \n",
       "50%     78.500000    3.142300    5.000000  330.000000   19.100000  391.250000   \n",
       "75%     94.100000    5.118000   24.000000  666.000000   20.200000  396.157500   \n",
       "max    100.000000   10.710300   24.000000  711.000000   22.000000  396.900000   \n",
       "\n",
       "               12  \n",
       "count  404.000000  \n",
       "mean    12.740817  \n",
       "std      7.254545  \n",
       "min      1.730000  \n",
       "25%      6.890000  \n",
       "50%     11.395000  \n",
       "75%     17.092500  \n",
       "max     37.970000  "
      ]
     },
     "execution_count": 5,
     "metadata": {},
     "output_type": "execute_result"
    }
   ],
   "source": [
    "pd.DataFrame(X_train).describe()"
   ]
  },
  {
   "cell_type": "markdown",
   "metadata": {},
   "source": [
    "❓ **Question** ❓ Standardize `X_train` and `X_test` set without data leakage, and replace them keeping similar variable names"
   ]
  },
  {
   "cell_type": "code",
   "execution_count": 7,
   "metadata": {},
   "outputs": [
    {
     "data": {
      "text/html": [
       "<div>\n",
       "<style scoped>\n",
       "    .dataframe tbody tr th:only-of-type {\n",
       "        vertical-align: middle;\n",
       "    }\n",
       "\n",
       "    .dataframe tbody tr th {\n",
       "        vertical-align: top;\n",
       "    }\n",
       "\n",
       "    .dataframe thead th {\n",
       "        text-align: right;\n",
       "    }\n",
       "</style>\n",
       "<table border=\"1\" class=\"dataframe\">\n",
       "  <thead>\n",
       "    <tr style=\"text-align: right;\">\n",
       "      <th></th>\n",
       "      <th>0</th>\n",
       "      <th>1</th>\n",
       "      <th>2</th>\n",
       "      <th>3</th>\n",
       "      <th>4</th>\n",
       "      <th>5</th>\n",
       "      <th>6</th>\n",
       "      <th>7</th>\n",
       "      <th>8</th>\n",
       "      <th>9</th>\n",
       "      <th>10</th>\n",
       "      <th>11</th>\n",
       "      <th>12</th>\n",
       "    </tr>\n",
       "  </thead>\n",
       "  <tbody>\n",
       "    <tr>\n",
       "      <th>count</th>\n",
       "      <td>4.040000e+02</td>\n",
       "      <td>4.040000e+02</td>\n",
       "      <td>4.040000e+02</td>\n",
       "      <td>4.040000e+02</td>\n",
       "      <td>4.040000e+02</td>\n",
       "      <td>4.040000e+02</td>\n",
       "      <td>4.040000e+02</td>\n",
       "      <td>4.040000e+02</td>\n",
       "      <td>4.040000e+02</td>\n",
       "      <td>4.040000e+02</td>\n",
       "      <td>4.040000e+02</td>\n",
       "      <td>4.040000e+02</td>\n",
       "      <td>4.040000e+02</td>\n",
       "    </tr>\n",
       "    <tr>\n",
       "      <th>mean</th>\n",
       "      <td>7.832019e-18</td>\n",
       "      <td>7.364846e-17</td>\n",
       "      <td>2.748077e-18</td>\n",
       "      <td>1.019536e-16</td>\n",
       "      <td>3.022884e-17</td>\n",
       "      <td>-1.690067e-17</td>\n",
       "      <td>1.099231e-17</td>\n",
       "      <td>6.485461e-17</td>\n",
       "      <td>1.951135e-17</td>\n",
       "      <td>-1.648846e-17</td>\n",
       "      <td>-2.473269e-17</td>\n",
       "      <td>1.147322e-17</td>\n",
       "      <td>-1.209154e-17</td>\n",
       "    </tr>\n",
       "    <tr>\n",
       "      <th>std</th>\n",
       "      <td>1.001240e+00</td>\n",
       "      <td>1.001240e+00</td>\n",
       "      <td>1.001240e+00</td>\n",
       "      <td>1.001240e+00</td>\n",
       "      <td>1.001240e+00</td>\n",
       "      <td>1.001240e+00</td>\n",
       "      <td>1.001240e+00</td>\n",
       "      <td>1.001240e+00</td>\n",
       "      <td>1.001240e+00</td>\n",
       "      <td>1.001240e+00</td>\n",
       "      <td>1.001240e+00</td>\n",
       "      <td>1.001240e+00</td>\n",
       "      <td>1.001240e+00</td>\n",
       "    </tr>\n",
       "    <tr>\n",
       "      <th>min</th>\n",
       "      <td>-4.051005e-01</td>\n",
       "      <td>-4.836155e-01</td>\n",
       "      <td>-1.564696e+00</td>\n",
       "      <td>-2.568327e-01</td>\n",
       "      <td>-1.471269e+00</td>\n",
       "      <td>-3.817250e+00</td>\n",
       "      <td>-2.369042e+00</td>\n",
       "      <td>-1.287503e+00</td>\n",
       "      <td>-9.715693e-01</td>\n",
       "      <td>-1.311311e+00</td>\n",
       "      <td>-2.673752e+00</td>\n",
       "      <td>-3.771101e+00</td>\n",
       "      <td>-1.519664e+00</td>\n",
       "    </tr>\n",
       "    <tr>\n",
       "      <th>25%</th>\n",
       "      <td>-3.969615e-01</td>\n",
       "      <td>-4.836155e-01</td>\n",
       "      <td>-8.782218e-01</td>\n",
       "      <td>-2.568327e-01</td>\n",
       "      <td>-8.908055e-01</td>\n",
       "      <td>-5.534305e-01</td>\n",
       "      <td>-8.433882e-01</td>\n",
       "      <td>-8.202251e-01</td>\n",
       "      <td>-6.262491e-01</td>\n",
       "      <td>-7.636737e-01</td>\n",
       "      <td>-5.692381e-01</td>\n",
       "      <td>2.116008e-01</td>\n",
       "      <td>-8.075036e-01</td>\n",
       "    </tr>\n",
       "    <tr>\n",
       "      <th>50%</th>\n",
       "      <td>-3.766520e-01</td>\n",
       "      <td>-4.836155e-01</td>\n",
       "      <td>-2.079167e-01</td>\n",
       "      <td>-2.568327e-01</td>\n",
       "      <td>-1.652266e-01</td>\n",
       "      <td>-9.674263e-02</td>\n",
       "      <td>3.400464e-01</td>\n",
       "      <td>-2.949009e-01</td>\n",
       "      <td>-5.111423e-01</td>\n",
       "      <td>-4.567563e-01</td>\n",
       "      <td>2.839433e-01</td>\n",
       "      <td>3.879673e-01</td>\n",
       "      <td>-1.857436e-01</td>\n",
       "    </tr>\n",
       "    <tr>\n",
       "      <th>75%</th>\n",
       "      <td>-7.617386e-03</td>\n",
       "      <td>4.296024e-02</td>\n",
       "      <td>1.028326e+00</td>\n",
       "      <td>-2.568327e-01</td>\n",
       "      <td>6.286420e-01</td>\n",
       "      <td>4.823165e-01</td>\n",
       "      <td>8.990647e-01</td>\n",
       "      <td>6.794540e-01</td>\n",
       "      <td>1.675886e+00</td>\n",
       "      <td>1.565287e+00</td>\n",
       "      <td>7.844764e-01</td>\n",
       "      <td>4.401777e-01</td>\n",
       "      <td>6.005999e-01</td>\n",
       "    </tr>\n",
       "    <tr>\n",
       "      <th>max</th>\n",
       "      <td>9.234847e+00</td>\n",
       "      <td>3.728990e+00</td>\n",
       "      <td>2.445374e+00</td>\n",
       "      <td>3.893584e+00</td>\n",
       "      <td>2.677335e+00</td>\n",
       "      <td>3.467186e+00</td>\n",
       "      <td>1.110488e+00</td>\n",
       "      <td>3.437406e+00</td>\n",
       "      <td>1.675886e+00</td>\n",
       "      <td>1.836097e+00</td>\n",
       "      <td>1.603531e+00</td>\n",
       "      <td>4.480771e-01</td>\n",
       "      <td>3.482019e+00</td>\n",
       "    </tr>\n",
       "  </tbody>\n",
       "</table>\n",
       "</div>"
      ],
      "text/plain": [
       "                 0             1             2             3             4   \\\n",
       "count  4.040000e+02  4.040000e+02  4.040000e+02  4.040000e+02  4.040000e+02   \n",
       "mean   7.832019e-18  7.364846e-17  2.748077e-18  1.019536e-16  3.022884e-17   \n",
       "std    1.001240e+00  1.001240e+00  1.001240e+00  1.001240e+00  1.001240e+00   \n",
       "min   -4.051005e-01 -4.836155e-01 -1.564696e+00 -2.568327e-01 -1.471269e+00   \n",
       "25%   -3.969615e-01 -4.836155e-01 -8.782218e-01 -2.568327e-01 -8.908055e-01   \n",
       "50%   -3.766520e-01 -4.836155e-01 -2.079167e-01 -2.568327e-01 -1.652266e-01   \n",
       "75%   -7.617386e-03  4.296024e-02  1.028326e+00 -2.568327e-01  6.286420e-01   \n",
       "max    9.234847e+00  3.728990e+00  2.445374e+00  3.893584e+00  2.677335e+00   \n",
       "\n",
       "                 5             6             7             8             9   \\\n",
       "count  4.040000e+02  4.040000e+02  4.040000e+02  4.040000e+02  4.040000e+02   \n",
       "mean  -1.690067e-17  1.099231e-17  6.485461e-17  1.951135e-17 -1.648846e-17   \n",
       "std    1.001240e+00  1.001240e+00  1.001240e+00  1.001240e+00  1.001240e+00   \n",
       "min   -3.817250e+00 -2.369042e+00 -1.287503e+00 -9.715693e-01 -1.311311e+00   \n",
       "25%   -5.534305e-01 -8.433882e-01 -8.202251e-01 -6.262491e-01 -7.636737e-01   \n",
       "50%   -9.674263e-02  3.400464e-01 -2.949009e-01 -5.111423e-01 -4.567563e-01   \n",
       "75%    4.823165e-01  8.990647e-01  6.794540e-01  1.675886e+00  1.565287e+00   \n",
       "max    3.467186e+00  1.110488e+00  3.437406e+00  1.675886e+00  1.836097e+00   \n",
       "\n",
       "                 10            11            12  \n",
       "count  4.040000e+02  4.040000e+02  4.040000e+02  \n",
       "mean  -2.473269e-17  1.147322e-17 -1.209154e-17  \n",
       "std    1.001240e+00  1.001240e+00  1.001240e+00  \n",
       "min   -2.673752e+00 -3.771101e+00 -1.519664e+00  \n",
       "25%   -5.692381e-01  2.116008e-01 -8.075036e-01  \n",
       "50%    2.839433e-01  3.879673e-01 -1.857436e-01  \n",
       "75%    7.844764e-01  4.401777e-01  6.005999e-01  \n",
       "max    1.603531e+00  4.480771e-01  3.482019e+00  "
      ]
     },
     "execution_count": 7,
     "metadata": {},
     "output_type": "execute_result"
    }
   ],
   "source": [
    "from sklearn.preprocessing import StandardScaler\n",
    "\n",
    "scaler = StandardScaler()\n",
    "scaler.fit(X_train)\n",
    "X_train = scaler.transform(X_train)\n",
    "X_test = scaler.transform(X_test)\n",
    "pd.DataFrame(X_train).describe()"
   ]
  },
  {
   "cell_type": "markdown",
   "metadata": {},
   "source": [
    "❓ **Question** ❓ To get a sense of a benchmark score you have to beat, what is the mean absolute error on the test set if your dumb prediction corresponds to the mean value of $y$ computed on the train set?"
   ]
  },
  {
   "cell_type": "code",
   "execution_count": 8,
   "metadata": {},
   "outputs": [
    {
     "name": "stdout",
     "output_type": "stream",
     "text": [
      "MAE:  6.533042127742185\n"
     ]
    }
   ],
   "source": [
    "from sklearn.metrics import mean_absolute_error\n",
    "\n",
    "# calculate mean of y_train\n",
    "y_train_mean = y_train.mean()\n",
    "\n",
    "# predict y_train mean for all test examples\n",
    "y_test_pred = [y_train_mean for i in range(len(y_test))]\n",
    "\n",
    "# calculate MAE\n",
    "mae = mean_absolute_error(y_test, y_test_pred)\n",
    "print(\"MAE: \", mae)"
   ]
  },
  {
   "cell_type": "markdown",
   "metadata": {},
   "source": [
    "# 1. The model\n",
    "\n",
    "❓ **Question** ❓ Now, write a function `initialize_model` that generates a neural network with 3 layers: \n",
    "- a layer with 10 neurons and the `relu` activation function (choose the appropriate input dimension)\n",
    "- a layer with 7 neurons and the `relu` activation function\n",
    "- an appropriate layer corresponding to the problem at hand"
   ]
  },
  {
   "cell_type": "code",
   "execution_count": 15,
   "metadata": {},
   "outputs": [
    {
     "name": "stdout",
     "output_type": "stream",
     "text": [
      "Model: \"sequential_3\"\n",
      "_________________________________________________________________\n",
      " Layer (type)                Output Shape              Param #   \n",
      "=================================================================\n",
      " dense_9 (Dense)             (None, 10)                140       \n",
      "                                                                 \n",
      " dense_10 (Dense)            (None, 7)                 77        \n",
      "                                                                 \n",
      " dense_11 (Dense)            (None, 1)                 8         \n",
      "                                                                 \n",
      "=================================================================\n",
      "Total params: 225\n",
      "Trainable params: 225\n",
      "Non-trainable params: 0\n",
      "_________________________________________________________________\n"
     ]
    }
   ],
   "source": [
    "from tensorflow.keras import models\n",
    "from tensorflow.keras import layers\n",
    "from keras.models import Sequential\n",
    "from keras.layers import Dense\n",
    "\n",
    "def initialize_model():\n",
    "    model = Sequential()\n",
    "\n",
    "    model.compile(loss = \"binary_crossentropy\",\n",
    "              metrics = [\"MAE\"],\n",
    "                 optimizer = \"adam\")\n",
    "\n",
    "    # add the first layer with 5 neurons and relu activation\n",
    "    model.add(Dense(10, activation='relu', input_dim=13))\n",
    "    model.add(Dense(7, activation='relu', input_dim=13))\n",
    "    # add the output layer for 2-class classification\n",
    "    model.add(Dense(1, activation='linear'))\n",
    "  \n",
    "    \n",
    "    return model\n",
    "model = initialize_model()\n",
    "model.summary()"
   ]
  },
  {
   "cell_type": "markdown",
   "metadata": {},
   "source": [
    "# 2. The optimizer\n",
    "\n",
    "❓ **Question** ❓ Write a function that :\n",
    "* takes as arguments a model and an optimizer, \n",
    "* `compiles` the model,\n",
    "* and returns the compiled model\n",
    "\n",
    "Please select the `loss function` to be optimized and  the `metrics` on which the model should be evaluated wisely."
   ]
  },
  {
   "cell_type": "code",
   "execution_count": 25,
   "metadata": {},
   "outputs": [],
   "source": [
    "def compile_model(model, optimizer_name):\n",
    "    model.compile(optimizer=optimizer_name, loss='MSE', metrics=['MAE'])\n",
    "    return model\n",
    "    \n",
    "  \n",
    "    \n",
    "    return model\n",
    "  "
   ]
  },
  {
   "cell_type": "markdown",
   "metadata": {},
   "source": [
    "❓ **Question** ❓ Initialize the model, compile it with the `adam` optimizer and fit it on the data. \n",
    "- Evaluate your model using an Early Stopping criterion."
   ]
  },
  {
   "cell_type": "code",
   "execution_count": 27,
   "metadata": {},
   "outputs": [
    {
     "name": "stdout",
     "output_type": "stream",
     "text": [
      "Epoch 1/100\n",
      "51/51 [==============================] - 2s 12ms/step - loss: 583.2073 - MAE: 22.2721 - val_loss: 570.1996 - val_MAE: 21.8836\n",
      "Epoch 2/100\n",
      "51/51 [==============================] - 0s 6ms/step - loss: 558.9282 - MAE: 21.5333 - val_loss: 546.5799 - val_MAE: 21.1344\n",
      "Epoch 3/100\n",
      "51/51 [==============================] - 0s 6ms/step - loss: 533.3405 - MAE: 20.7142 - val_loss: 517.6613 - val_MAE: 20.2022\n",
      "Epoch 4/100\n",
      "51/51 [==============================] - 0s 6ms/step - loss: 498.9286 - MAE: 19.6525 - val_loss: 476.6347 - val_MAE: 19.0096\n",
      "Epoch 5/100\n",
      "51/51 [==============================] - 0s 6ms/step - loss: 449.2364 - MAE: 18.2558 - val_loss: 416.3606 - val_MAE: 17.4205\n",
      "Epoch 6/100\n",
      "51/51 [==============================] - 0s 7ms/step - loss: 379.1896 - MAE: 16.5175 - val_loss: 335.4814 - val_MAE: 15.3643\n",
      "Epoch 7/100\n",
      "51/51 [==============================] - 0s 6ms/step - loss: 284.8445 - MAE: 13.9951 - val_loss: 226.1470 - val_MAE: 12.3298\n",
      "Epoch 8/100\n",
      "51/51 [==============================] - 0s 6ms/step - loss: 177.0396 - MAE: 10.6906 - val_loss: 130.2957 - val_MAE: 8.8600\n",
      "Epoch 9/100\n",
      "51/51 [==============================] - 0s 6ms/step - loss: 98.5045 - MAE: 7.4107 - val_loss: 72.9428 - val_MAE: 6.1749\n",
      "Epoch 10/100\n",
      "51/51 [==============================] - 0s 6ms/step - loss: 62.6915 - MAE: 5.7380 - val_loss: 53.8675 - val_MAE: 5.3113\n",
      "Epoch 11/100\n",
      "51/51 [==============================] - 0s 6ms/step - loss: 48.2070 - MAE: 4.9717 - val_loss: 42.9167 - val_MAE: 4.6799\n",
      "Epoch 12/100\n",
      "51/51 [==============================] - 0s 6ms/step - loss: 39.5741 - MAE: 4.4895 - val_loss: 36.0681 - val_MAE: 4.2654\n",
      "Epoch 13/100\n",
      "51/51 [==============================] - 0s 7ms/step - loss: 34.0874 - MAE: 4.1062 - val_loss: 31.5466 - val_MAE: 3.9262\n",
      "Epoch 14/100\n",
      "51/51 [==============================] - 0s 6ms/step - loss: 30.3568 - MAE: 3.8164 - val_loss: 28.8289 - val_MAE: 3.7014\n",
      "Epoch 15/100\n",
      "51/51 [==============================] - 0s 6ms/step - loss: 27.8849 - MAE: 3.6363 - val_loss: 26.6811 - val_MAE: 3.5546\n",
      "Epoch 16/100\n",
      "51/51 [==============================] - 0s 6ms/step - loss: 26.0921 - MAE: 3.5186 - val_loss: 25.1668 - val_MAE: 3.4515\n",
      "Epoch 17/100\n",
      "51/51 [==============================] - 0s 6ms/step - loss: 24.7259 - MAE: 3.4078 - val_loss: 23.8254 - val_MAE: 3.3496\n",
      "Epoch 18/100\n",
      "51/51 [==============================] - 0s 6ms/step - loss: 23.5070 - MAE: 3.3285 - val_loss: 22.8039 - val_MAE: 3.2848\n",
      "Epoch 19/100\n",
      "51/51 [==============================] - 0s 6ms/step - loss: 22.5655 - MAE: 3.2648 - val_loss: 21.9065 - val_MAE: 3.2124\n",
      "Epoch 20/100\n",
      "51/51 [==============================] - 0s 6ms/step - loss: 21.6852 - MAE: 3.2079 - val_loss: 21.0739 - val_MAE: 3.1596\n",
      "Epoch 21/100\n",
      "51/51 [==============================] - 0s 6ms/step - loss: 20.9911 - MAE: 3.1653 - val_loss: 20.3412 - val_MAE: 3.0930\n",
      "Epoch 22/100\n",
      "51/51 [==============================] - 0s 6ms/step - loss: 20.1999 - MAE: 3.0691 - val_loss: 19.6413 - val_MAE: 3.0309\n",
      "Epoch 23/100\n",
      "51/51 [==============================] - 0s 7ms/step - loss: 19.5871 - MAE: 3.0300 - val_loss: 19.0200 - val_MAE: 2.9827\n",
      "Epoch 24/100\n",
      "51/51 [==============================] - 0s 8ms/step - loss: 18.9369 - MAE: 2.9842 - val_loss: 18.3930 - val_MAE: 2.9348\n",
      "Epoch 25/100\n",
      "51/51 [==============================] - 0s 7ms/step - loss: 18.3137 - MAE: 2.9318 - val_loss: 17.8186 - val_MAE: 2.8955\n",
      "Epoch 26/100\n",
      "51/51 [==============================] - 0s 7ms/step - loss: 17.8490 - MAE: 2.8818 - val_loss: 17.2944 - val_MAE: 2.8511\n",
      "Epoch 27/100\n",
      "51/51 [==============================] - 0s 6ms/step - loss: 17.1638 - MAE: 2.8229 - val_loss: 16.7885 - val_MAE: 2.7777\n",
      "Epoch 28/100\n",
      "51/51 [==============================] - 0s 6ms/step - loss: 16.7425 - MAE: 2.7634 - val_loss: 16.2580 - val_MAE: 2.7476\n",
      "Epoch 29/100\n",
      "51/51 [==============================] - 0s 6ms/step - loss: 16.2449 - MAE: 2.7369 - val_loss: 15.8108 - val_MAE: 2.6920\n",
      "Epoch 30/100\n",
      "51/51 [==============================] - 0s 6ms/step - loss: 15.7245 - MAE: 2.6921 - val_loss: 15.2753 - val_MAE: 2.6491\n",
      "Epoch 31/100\n",
      "51/51 [==============================] - 0s 7ms/step - loss: 15.2088 - MAE: 2.6390 - val_loss: 14.8562 - val_MAE: 2.5979\n",
      "Epoch 32/100\n",
      "51/51 [==============================] - 0s 7ms/step - loss: 14.8277 - MAE: 2.6009 - val_loss: 14.4086 - val_MAE: 2.5586\n",
      "Epoch 33/100\n",
      "51/51 [==============================] - 0s 7ms/step - loss: 14.5014 - MAE: 2.5618 - val_loss: 14.0751 - val_MAE: 2.5184\n",
      "Epoch 34/100\n",
      "51/51 [==============================] - 0s 6ms/step - loss: 14.1390 - MAE: 2.5317 - val_loss: 13.7116 - val_MAE: 2.4818\n",
      "Epoch 35/100\n",
      "51/51 [==============================] - 0s 6ms/step - loss: 13.6731 - MAE: 2.4871 - val_loss: 13.3844 - val_MAE: 2.4635\n",
      "Epoch 36/100\n",
      "51/51 [==============================] - 0s 6ms/step - loss: 13.3931 - MAE: 2.4538 - val_loss: 13.0949 - val_MAE: 2.4324\n",
      "Epoch 37/100\n",
      "51/51 [==============================] - 0s 6ms/step - loss: 13.0891 - MAE: 2.4348 - val_loss: 12.8514 - val_MAE: 2.4275\n",
      "Epoch 38/100\n",
      "51/51 [==============================] - 0s 6ms/step - loss: 12.9338 - MAE: 2.4273 - val_loss: 12.6006 - val_MAE: 2.4021\n",
      "Epoch 39/100\n",
      "51/51 [==============================] - 0s 6ms/step - loss: 12.6212 - MAE: 2.3953 - val_loss: 12.3699 - val_MAE: 2.3751\n",
      "Epoch 40/100\n",
      "51/51 [==============================] - 0s 6ms/step - loss: 12.4011 - MAE: 2.3796 - val_loss: 12.1712 - val_MAE: 2.3783\n",
      "Epoch 41/100\n",
      "51/51 [==============================] - 0s 6ms/step - loss: 12.1779 - MAE: 2.3729 - val_loss: 11.9543 - val_MAE: 2.3468\n",
      "Epoch 42/100\n",
      "51/51 [==============================] - 0s 7ms/step - loss: 12.0010 - MAE: 2.3454 - val_loss: 11.8062 - val_MAE: 2.3222\n",
      "Epoch 43/100\n",
      "51/51 [==============================] - 0s 7ms/step - loss: 11.8302 - MAE: 2.3400 - val_loss: 11.6079 - val_MAE: 2.3206\n",
      "Epoch 44/100\n",
      "51/51 [==============================] - 0s 7ms/step - loss: 11.6456 - MAE: 2.3436 - val_loss: 11.4241 - val_MAE: 2.3203\n",
      "Epoch 45/100\n",
      "51/51 [==============================] - 0s 6ms/step - loss: 11.6076 - MAE: 2.3253 - val_loss: 11.3134 - val_MAE: 2.2853\n",
      "Epoch 46/100\n",
      "51/51 [==============================] - 0s 6ms/step - loss: 11.4131 - MAE: 2.3108 - val_loss: 11.1580 - val_MAE: 2.3011\n",
      "Epoch 47/100\n",
      "51/51 [==============================] - 0s 6ms/step - loss: 11.2501 - MAE: 2.2951 - val_loss: 10.9952 - val_MAE: 2.2751\n",
      "Epoch 48/100\n",
      "51/51 [==============================] - 0s 7ms/step - loss: 11.1629 - MAE: 2.3174 - val_loss: 10.8573 - val_MAE: 2.2712\n",
      "Epoch 49/100\n",
      "51/51 [==============================] - 0s 6ms/step - loss: 10.9648 - MAE: 2.2789 - val_loss: 10.7189 - val_MAE: 2.2576\n",
      "Epoch 50/100\n",
      "51/51 [==============================] - 0s 6ms/step - loss: 10.7858 - MAE: 2.2662 - val_loss: 10.6239 - val_MAE: 2.2505\n",
      "Epoch 51/100\n",
      "51/51 [==============================] - 0s 6ms/step - loss: 10.7317 - MAE: 2.2787 - val_loss: 10.5067 - val_MAE: 2.2426\n",
      "Epoch 52/100\n",
      "51/51 [==============================] - 0s 6ms/step - loss: 10.5460 - MAE: 2.2460 - val_loss: 10.3723 - val_MAE: 2.2273\n",
      "Epoch 53/100\n",
      "51/51 [==============================] - 0s 6ms/step - loss: 10.4955 - MAE: 2.2511 - val_loss: 10.2746 - val_MAE: 2.2230\n",
      "Epoch 54/100\n",
      "51/51 [==============================] - 0s 6ms/step - loss: 10.3960 - MAE: 2.2419 - val_loss: 10.1843 - val_MAE: 2.2152\n",
      "Epoch 55/100\n",
      "51/51 [==============================] - 0s 6ms/step - loss: 10.3744 - MAE: 2.2487 - val_loss: 10.0850 - val_MAE: 2.2098\n",
      "Epoch 56/100\n",
      "51/51 [==============================] - 0s 6ms/step - loss: 10.2040 - MAE: 2.2252 - val_loss: 9.9918 - val_MAE: 2.1979\n",
      "Epoch 57/100\n",
      "51/51 [==============================] - 0s 6ms/step - loss: 10.0931 - MAE: 2.2106 - val_loss: 9.9220 - val_MAE: 2.1969\n",
      "Epoch 58/100\n",
      "51/51 [==============================] - 0s 6ms/step - loss: 10.0499 - MAE: 2.2114 - val_loss: 9.8764 - val_MAE: 2.1945\n",
      "Epoch 59/100\n",
      "51/51 [==============================] - 0s 6ms/step - loss: 9.9771 - MAE: 2.2038 - val_loss: 9.7500 - val_MAE: 2.1826\n",
      "Epoch 60/100\n",
      "51/51 [==============================] - 0s 5ms/step - loss: 9.8555 - MAE: 2.1920 - val_loss: 9.6848 - val_MAE: 2.1708\n",
      "Epoch 61/100\n",
      "51/51 [==============================] - 0s 6ms/step - loss: 9.8389 - MAE: 2.1791 - val_loss: 9.6128 - val_MAE: 2.1637\n",
      "Epoch 62/100\n"
     ]
    },
    {
     "name": "stdout",
     "output_type": "stream",
     "text": [
      "51/51 [==============================] - 0s 6ms/step - loss: 9.7546 - MAE: 2.1926 - val_loss: 9.5437 - val_MAE: 2.1543\n",
      "Epoch 63/100\n",
      "51/51 [==============================] - 0s 7ms/step - loss: 9.7022 - MAE: 2.1726 - val_loss: 9.4559 - val_MAE: 2.1468\n",
      "Epoch 64/100\n",
      "51/51 [==============================] - 0s 7ms/step - loss: 9.6421 - MAE: 2.1767 - val_loss: 9.3878 - val_MAE: 2.1399\n",
      "Epoch 65/100\n",
      "51/51 [==============================] - 0s 7ms/step - loss: 9.5435 - MAE: 2.1511 - val_loss: 9.3279 - val_MAE: 2.1323\n",
      "Epoch 66/100\n",
      "51/51 [==============================] - 0s 6ms/step - loss: 9.5053 - MAE: 2.1782 - val_loss: 9.2620 - val_MAE: 2.1301\n",
      "Epoch 67/100\n",
      "51/51 [==============================] - 0s 6ms/step - loss: 9.3679 - MAE: 2.1472 - val_loss: 9.2170 - val_MAE: 2.1207\n",
      "Epoch 68/100\n",
      "51/51 [==============================] - 0s 7ms/step - loss: 9.4058 - MAE: 2.1529 - val_loss: 9.1406 - val_MAE: 2.1118\n",
      "Epoch 69/100\n",
      "51/51 [==============================] - 0s 6ms/step - loss: 9.2634 - MAE: 2.1245 - val_loss: 9.0841 - val_MAE: 2.1175\n",
      "Epoch 70/100\n",
      "51/51 [==============================] - 0s 6ms/step - loss: 9.1718 - MAE: 2.1230 - val_loss: 9.0316 - val_MAE: 2.1051\n",
      "Epoch 71/100\n",
      "51/51 [==============================] - 0s 6ms/step - loss: 9.2192 - MAE: 2.1333 - val_loss: 9.0338 - val_MAE: 2.0972\n",
      "Epoch 72/100\n",
      "51/51 [==============================] - 0s 7ms/step - loss: 9.1234 - MAE: 2.1126 - val_loss: 8.9313 - val_MAE: 2.0937\n",
      "Epoch 73/100\n",
      "51/51 [==============================] - 0s 7ms/step - loss: 9.0574 - MAE: 2.1095 - val_loss: 8.8902 - val_MAE: 2.1018\n",
      "Epoch 74/100\n",
      "51/51 [==============================] - 0s 7ms/step - loss: 8.9839 - MAE: 2.1045 - val_loss: 8.8234 - val_MAE: 2.0832\n",
      "Epoch 75/100\n",
      "51/51 [==============================] - 0s 7ms/step - loss: 9.0225 - MAE: 2.1172 - val_loss: 8.7739 - val_MAE: 2.0814\n",
      "Epoch 76/100\n",
      "51/51 [==============================] - 0s 7ms/step - loss: 8.9574 - MAE: 2.1016 - val_loss: 8.7368 - val_MAE: 2.0716\n",
      "Epoch 77/100\n",
      "51/51 [==============================] - 0s 7ms/step - loss: 8.8662 - MAE: 2.0858 - val_loss: 8.6865 - val_MAE: 2.0703\n",
      "Epoch 78/100\n",
      "51/51 [==============================] - 0s 6ms/step - loss: 8.8548 - MAE: 2.1017 - val_loss: 8.6705 - val_MAE: 2.0813\n",
      "Epoch 79/100\n",
      "51/51 [==============================] - 0s 7ms/step - loss: 8.8535 - MAE: 2.0969 - val_loss: 8.6021 - val_MAE: 2.0630\n",
      "Epoch 80/100\n",
      "51/51 [==============================] - 0s 7ms/step - loss: 8.7502 - MAE: 2.0733 - val_loss: 8.5532 - val_MAE: 2.0554\n",
      "Epoch 81/100\n",
      "51/51 [==============================] - 0s 7ms/step - loss: 8.6893 - MAE: 2.0818 - val_loss: 8.5181 - val_MAE: 2.0635\n",
      "Epoch 82/100\n",
      "51/51 [==============================] - 0s 7ms/step - loss: 8.7250 - MAE: 2.0687 - val_loss: 8.4984 - val_MAE: 2.0490\n",
      "Epoch 83/100\n",
      "51/51 [==============================] - 0s 7ms/step - loss: 8.7379 - MAE: 2.1009 - val_loss: 8.4261 - val_MAE: 2.0396\n",
      "Epoch 84/100\n",
      "51/51 [==============================] - 0s 7ms/step - loss: 8.6892 - MAE: 2.0587 - val_loss: 8.4159 - val_MAE: 2.0640\n",
      "Epoch 85/100\n",
      "51/51 [==============================] - 0s 7ms/step - loss: 8.5671 - MAE: 2.0683 - val_loss: 8.3384 - val_MAE: 2.0312\n",
      "Epoch 86/100\n",
      "51/51 [==============================] - 0s 7ms/step - loss: 8.4784 - MAE: 2.0609 - val_loss: 8.3226 - val_MAE: 2.0394\n",
      "Epoch 87/100\n",
      "51/51 [==============================] - 0s 7ms/step - loss: 8.4321 - MAE: 2.0517 - val_loss: 8.2680 - val_MAE: 2.0336\n",
      "Epoch 88/100\n",
      "51/51 [==============================] - 0s 8ms/step - loss: 8.4696 - MAE: 2.0654 - val_loss: 8.2501 - val_MAE: 2.0371\n",
      "Epoch 89/100\n",
      "51/51 [==============================] - 0s 7ms/step - loss: 8.4879 - MAE: 2.0450 - val_loss: 8.4637 - val_MAE: 2.0914\n",
      "Epoch 90/100\n",
      "51/51 [==============================] - 0s 6ms/step - loss: 8.4321 - MAE: 2.0606 - val_loss: 8.1785 - val_MAE: 2.0328\n",
      "Epoch 91/100\n",
      "51/51 [==============================] - 0s 7ms/step - loss: 8.2996 - MAE: 2.0287 - val_loss: 8.1295 - val_MAE: 2.0262\n",
      "Epoch 92/100\n",
      "51/51 [==============================] - 0s 6ms/step - loss: 8.2447 - MAE: 2.0472 - val_loss: 8.1065 - val_MAE: 2.0153\n",
      "Epoch 93/100\n",
      "51/51 [==============================] - 0s 6ms/step - loss: 8.2183 - MAE: 2.0250 - val_loss: 8.0690 - val_MAE: 2.0127\n",
      "Epoch 94/100\n",
      "51/51 [==============================] - 0s 8ms/step - loss: 8.2938 - MAE: 2.0284 - val_loss: 8.0804 - val_MAE: 2.0307\n",
      "Epoch 95/100\n",
      "51/51 [==============================] - 0s 8ms/step - loss: 8.1932 - MAE: 2.0267 - val_loss: 7.9890 - val_MAE: 2.0026\n",
      "Epoch 96/100\n",
      "51/51 [==============================] - 0s 7ms/step - loss: 8.1616 - MAE: 2.0292 - val_loss: 7.9764 - val_MAE: 1.9876\n",
      "Epoch 97/100\n",
      "51/51 [==============================] - 0s 7ms/step - loss: 8.1382 - MAE: 2.0134 - val_loss: 7.9518 - val_MAE: 1.9821\n",
      "Epoch 98/100\n",
      "51/51 [==============================] - 0s 7ms/step - loss: 8.2041 - MAE: 2.0273 - val_loss: 7.8758 - val_MAE: 1.9868\n",
      "Epoch 99/100\n",
      "51/51 [==============================] - 0s 6ms/step - loss: 8.0489 - MAE: 2.0077 - val_loss: 7.8816 - val_MAE: 1.9865\n",
      "Epoch 100/100\n",
      "51/51 [==============================] - 0s 6ms/step - loss: 8.0871 - MAE: 2.0059 - val_loss: 7.8313 - val_MAE: 1.9946\n",
      "4/4 [==============================] - 0s 3ms/step - loss: 20.1399 - MAE: 2.8029\n",
      "Test loss: 20.13991928100586\n",
      "Test accuracy: 2.802941083908081\n"
     ]
    }
   ],
   "source": [
    "from tensorflow.keras.callbacks import EarlyStopping\n",
    "\n",
    "# Initialize the model\n",
    "model = initialize_model()\n",
    "model = compile_model(model,\"adam\")\n",
    "\n",
    "# Define early stopping\n",
    "early_stopping = EarlyStopping(monitor='val_loss', patience=10)\n",
    "\n",
    "# Fit the model on the data\n",
    "history = model.fit(X_train, y_train, epochs=100, batch_size=8, validation_data=(X_train, y_train), callbacks=[early_stopping])\n",
    "\n",
    "# Evaluate the model on the test data\n",
    "test_loss, test_acc = model.evaluate(X_test, y_test)\n",
    "print('Test loss:', test_loss)\n",
    "print('Test accuracy:', test_acc)\n",
    "\n",
    "\n",
    "\n"
   ]
  },
  {
   "cell_type": "markdown",
   "metadata": {},
   "source": [
    "❓ **Question** ❓ Re-run the same model on the same data using different optimizers (in a `for` loop). \n",
    "\n",
    "For each optimizer, plot the history and report the corresponding Mean Absolute Error. (see [here](https://www.tensorflow.org/api_docs/python/tf/keras/optimizers)), as well as the time it took to fit your Neural Net."
   ]
  },
  {
   "cell_type": "code",
   "execution_count": 33,
   "metadata": {},
   "outputs": [],
   "source": [
    "def plot_loss_mae(history):\n",
    "    fig, (ax1, ax2) = plt.subplots(1,2, figsize=(13,4))\n",
    "    ax1.plot(history.history['loss'])\n",
    "    ax1.plot(history.history['val_loss'])\n",
    "    ax1.set_title('Model loss')\n",
    "    ax1.set_ylabel('Loss')\n",
    "    ax1.set_xlabel('Epoch')\n",
    "    ax1.set_ylim(ymin=0, ymax=200)\n",
    "    ax1.legend(['Train', 'Validation'], loc='best')\n",
    "    ax1.grid(axis=\"x\",linewidth=0.5)\n",
    "    ax1.grid(axis=\"y\",linewidth=0.5)    \n",
    "    \n",
    "    ax2.plot(history.history['MAE'])\n",
    "    ax2.plot(history.history['val_MAE'])\n",
    "    ax2.set_title('MAE')\n",
    "    ax2.set_ylabel('MAE')\n",
    "    ax2.set_xlabel('Epoch')\n",
    "    ax2.set_ylim(ymin=0, ymax=20)\n",
    "    ax2.legend(['Train', 'Validation'], loc='best')\n",
    "    ax2.grid(axis=\"x\",linewidth=0.5)\n",
    "    ax2.grid(axis=\"y\",linewidth=0.5)    \n",
    "\n",
    "    plt.show()\n",
    "\n",
    "def plot_loss_mse(history):\n",
    "    fig, (ax1, ax2) = plt.subplots(1,2, figsize=(13,4))\n",
    "    ax1.plot(history.history['loss'])\n",
    "    ax1.plot(history.history['val_loss'])\n",
    "    ax1.set_title('Model loss')\n",
    "    ax1.set_ylabel('Loss')\n",
    "    ax1.set_xlabel('Epoch')\n",
    "    ax1.set_ylim(ymin=0, ymax=20)\n",
    "    ax1.legend(['Train', 'Validation'], loc='best')\n",
    "    ax1.grid(axis=\"x\",linewidth=0.5)\n",
    "    ax1.grid(axis=\"y\",linewidth=0.5)    \n",
    "\n",
    "    \n",
    "    ax2.plot(history.history['mse'])\n",
    "    ax2.plot(history.history['val_mse'])\n",
    "    ax2.set_title('MSE')\n",
    "    ax2.set_ylabel('MSE')\n",
    "    ax2.set_xlabel('Epoch')\n",
    "    ax2.set_ylim(ymin=0, ymax=200)\n",
    "    ax2.legend(['Train', 'Validation'], loc='best')\n",
    "    ax2.grid(axis=\"x\",linewidth=0.5)\n",
    "    ax2.grid(axis=\"y\",linewidth=0.5)    \n",
    "\n",
    "    plt.show()"
   ]
  },
  {
   "cell_type": "code",
   "execution_count": 34,
   "metadata": {
    "tags": [
     "delete"
    ]
   },
   "outputs": [
    {
     "name": "stdout",
     "output_type": "stream",
     "text": [
      "4/4 [==============================] - 0s 7ms/step - loss: 18.8465 - MAE: 2.9641\n",
      "MAE with the rmsprop optimizer: 2.9641  reached in 30 s after 250 epochs\n"
     ]
    },
    {
     "data": {
      "image/png": "[encoded data removed]",
      "text/plain": [
       "<Figure size 936x288 with 2 Axes>"
      ]
     },
     "metadata": {
      "needs_background": "light"
     },
     "output_type": "display_data"
    },
    {
     "name": "stdout",
     "output_type": "stream",
     "text": [
      "4/4 [==============================] - 0s 0s/step - loss: 20.9483 - MAE: 2.9649\n",
      "MAE with the adam optimizer: 2.9649  reached in 30 s after 246 epochs\n"
     ]
    },
    {
     "data": {
      "image/png": "[encoded data removed]",
      "text/plain": [
       "<Figure size 936x288 with 2 Axes>"
      ]
     },
     "metadata": {
      "needs_background": "light"
     },
     "output_type": "display_data"
    },
    {
     "name": "stdout",
     "output_type": "stream",
     "text": [
      "4/4 [==============================] - 0s 3ms/step - loss: 357.0299 - MAE: 16.9790\n",
      "MAE with the adagrad optimizer: 16.9790  reached in 59 s after 500 epochs\n"
     ]
    },
    {
     "data": {
      "image/png": "[encoded data removed]",
      "text/plain": [
       "<Figure size 936x288 with 2 Axes>"
      ]
     },
     "metadata": {
      "needs_background": "light"
     },
     "output_type": "display_data"
    }
   ],
   "source": [
    "import time\n",
    "\n",
    "for optimizer in ['rmsprop', 'adam', 'adagrad']:\n",
    "    start_time = time.time()\n",
    "    model = initialize_model()\n",
    "    model = compile_model(model, optimizer)\n",
    "\n",
    "    es = EarlyStopping(patience=10, restore_best_weights=True)\n",
    "\n",
    "    history = model.fit(X_train, y_train, \n",
    "                      batch_size=16, \n",
    "                      epochs=500, \n",
    "                      validation_split=0.3,\n",
    "                      callbacks=[es], verbose=0)\n",
    "\n",
    "    res = model.evaluate(X_test, y_test)[1]\n",
    "    end_time = time.time()\n",
    "\n",
    "    print(f'MAE with the {optimizer} optimizer: {res:.4f}  reached in {(end_time - start_time):.0f} s after {len(history.epoch)} epochs')\n",
    "    plot_loss_mae(history)"
   ]
  },
  {
   "cell_type": "markdown",
   "metadata": {},
   "source": [
    "❓ **Question** ❓ Are your predictions better than the benchmark model you've evaluated at the beginning of the notebook?"
   ]
  },
  {
   "cell_type": "markdown",
   "metadata": {},
   "source": [
    "Rmsprop optimizer and adam optimize make better prediction than the benchmark but th adagrad optimizer don't"
   ]
  },
  {
   "cell_type": "markdown",
   "metadata": {},
   "source": [
    "❗ **Remark** ❗ \n",
    "- Here, the optimizer is may not be central as the data are in low dimensions and and there are not many samples. However, in practice, you are advised to start with the `adam` optimizer by default which often works best. \n",
    "\n",
    "- Internally, when you call any optimizer with a string, the neural network initializes the hyperparameters the optimizer relies on. Among this hyperparameters, there is quite an important one, the **`learning rate`**. This learning rate corresponds to the intensity of change of the weights at each optimization of the neural network. Different learning rates have different consequences, as shown here : \n",
    "\n",
    "<img src=\"learning_rate.png\" alt=\"Learning rate\" style=\"height:350px;\"/>\n",
    "\n",
    "\n",
    "As the learning rate is initialized with default values when you compile the model optimizer with a string, let's see how to do it differently.\n",
    "\n",
    "\n",
    "❓ **Question** ❓ Instead of initializing the optimizer with a string, we will initialize a real optimizer directly. Look at the documentation of [adam](https://www.tensorflow.org/api_docs/python/tf/keras/optimizers/Adam) and instantiate it with a learning rate of $0.1$ - keep the other values to their default values. Use this optimizer in the `compile_model` function, fit the data and plot the history"
   ]
  },
  {
   "cell_type": "code",
   "execution_count": 5,
   "metadata": {
    "tags": [
     "challengify"
    ]
   },
   "outputs": [],
   "source": [
    "# YOUR CODE HERE"
   ]
  },
  {
   "cell_type": "markdown",
   "metadata": {},
   "source": [
    "❓ **Question** ❓ Now, reproduce the same plots and results but for different learning rates.\n",
    "\n",
    "*Remark*: There is a chance that the y-axis is too large for you to visualize the results. In that case, rewrite the plot function to plot only the epochs > 10."
   ]
  },
  {
   "cell_type": "code",
   "execution_count": 7,
   "metadata": {},
   "outputs": [
    {
     "ename": "SyntaxError",
     "evalue": "unexpected EOF while parsing (<ipython-input-7-e15c79350b07>, line 5)",
     "output_type": "error",
     "traceback": [
      "\u001b[1;36m  File \u001b[1;32m\"<ipython-input-7-e15c79350b07>\"\u001b[1;36m, line \u001b[1;32m5\u001b[0m\n\u001b[1;33m    \u001b[0m\n\u001b[1;37m    ^\u001b[0m\n\u001b[1;31mSyntaxError\u001b[0m\u001b[1;31m:\u001b[0m unexpected EOF while parsing\n"
     ]
    }
   ],
   "source": [
    "learning_rates = [0.0001, 0.001, 0.01, 0.1, 1, 5]\n",
    "\n",
    "for lr in learning_rates:\n",
    " \n",
    "   "
   ]
  },
  {
   "cell_type": "markdown",
   "metadata": {},
   "source": [
    "# 3. The loss\n",
    "\n",
    "⚠️ It is important to **clearly understand the different between metrics and losses**. \n",
    "\n",
    "* The `loss functions` are computed *during* the training procedure\n",
    "* The `metrics` are computed *after* training your models !\n",
    "* Some metrics can be used as loss functions too... as long as they are differentiable ! (e.g. the *MSE*)\n",
    "\n",
    "❓ **Question** ❓ Run the same neural network, once with the `mae` as the loss, and once with the `mse`.  \n",
    "\n",
    "In both case, compare `mae_train`, `mae_val`, `mse_train`, `mse_val` and conclude."
   ]
  },
  {
   "cell_type": "code",
   "execution_count": 8,
   "metadata": {},
   "outputs": [],
   "source": [
    "\n",
    "# YOUR CODE HERE"
   ]
  },
  {
   "cell_type": "markdown",
   "metadata": {},
   "source": [
    "❗️ Countrary to first intuition, it can be sometimes better to use the MSE as the loss function in order to get the best MAE possible in the end!\n",
    "\n",
    "<details>\n",
    "    <summary>▶ Why?</summary>\n",
    "\n",
    "Well, even the Deep Learning research community is still trying to answer these types of questions rigorously.\n",
    "    \n",
    "One thing for sure: In Deep Learning, you will never really reach the \"global minimum\" of the true loss function (the one computed using your entire training set as one single \"batch\"). So, in your first model (minimizing the MAE loss), your global MAE minimum has clearly **not** been reached (otherwise you could never beat it). \n",
    "\n",
    "Why? It may well be that the minimization process of the second model has performed better. Maybe because the loss function \"energy map\" is \"smoother\" or more \"convex\" in the case of MSE loss? Or maybe your hyper-parameter are best suited to the MSE than to the MAE loss?\n",
    "\n",
    "</details>"
   ]
  },
  {
   "cell_type": "markdown",
   "metadata": {},
   "source": [
    "### 🧪 Test your model best performance\n",
    "\n",
    "❓ Save your best model performance on the test set at `mae_test` and check it out below"
   ]
  },
  {
   "cell_type": "code",
   "execution_count": 9,
   "metadata": {},
   "outputs": [],
   "source": [
    "\n",
    "# YOUR CODE HERE"
   ]
  },
  {
   "cell_type": "markdown",
   "metadata": {},
   "source": [
    "# 4 : Save and load a model\n",
    "\n",
    "❓ **Question** ❓  Save your model using `.save_model(model, 'name_of_my_model')` method that you can find [here](https://www.tensorflow.org/api_docs/python/tf/keras/models/save_model).."
   ]
  },
  {
   "cell_type": "markdown",
   "metadata": {},
   "source": [
    "❓ **Question** ❓ Now, in a variable that you will call `loaded_model`, load the model you just saved thanks to `.load_model('name_of_your_model')` [(documentation here)](https://www.tensorflow.org/api_docs/python/tf/keras/models/load_model), and evaluate it on the test data to check that it gives the same result as before."
   ]
  },
  {
   "cell_type": "code",
   "execution_count": 10,
   "metadata": {
    "tags": [
     "challengify"
    ]
   },
   "outputs": [],
   "source": [
    "# YOUR CODE"
   ]
  },
  {
   "cell_type": "markdown",
   "metadata": {},
   "source": [
    "## (Optional) `Exponential Decay` for the Optimizer's Learning Rate\n",
    "\n",
    "The next question is not essential and can be skipped as many algorithms can be run without such optimization. \n",
    "\n",
    "Instead of keeping a fixed learning rate, you can change it from one iteration to the other, with the intuition that at first, you need large learning rates, and as the neural network converges and get closer to the minimum loss value, you can decrease the value of the learning rate. This is called a **`scheduler`**. \n",
    "\n",
    "❓ **Question** ❓ Use the [Exponential Decay Scheduler](https://www.tensorflow.org/api_docs/python/tf/keras/optimizers/schedules/ExponentialDecay) in the `adam` optimizer and run it on the previous data. Start with the following:\n",
    "\n",
    "```python\n",
    "initial_learning_rate = 0.001 # start with default ADAM value\n",
    "\n",
    "lr_schedule = ExponentialDecay(\n",
    "    # Every 5000 iterations, multiply the learning rate by 0.7\n",
    "    initial_learning_rate, decay_steps=5000, decay_rate=0.7,\n",
    ")\n",
    "```"
   ]
  },
  {
   "cell_type": "code",
   "execution_count": 11,
   "metadata": {},
   "outputs": [],
   "source": [
    "# YOUR CODE HERE"
   ]
  },
  {
   "cell_type": "code",
   "execution_count": null,
   "metadata": {},
   "outputs": [],
   "source": []
  }
 ],
 "metadata": {
  "kernelspec": {
   "display_name": "Python 3 (ipykernel)",
   "language": "python",
   "name": "python3"
  },
  "language_info": {
   "codemirror_mode": {
    "name": "ipython",
    "version": 3
   },
   "file_extension": ".py",
   "mimetype": "text/x-python",
   "name": "python",
   "nbconvert_exporter": "python",
   "pygments_lexer": "ipython3",
   "version": "3.9.12"
  }
 },
 "nbformat": 4,
 "nbformat_minor": 2
}
